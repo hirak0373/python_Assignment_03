{
 "cells": [
  {
   "cell_type": "code",
   "execution_count": 46,
   "metadata": {},
   "outputs": [
    {
     "name": "stdout",
     "output_type": "stream",
     "text": [
      "Twinkle, twinkle, little star,\n",
      "\tHow I wonder what you are!\n",
      "\t\tUp above the world so high,\n",
      "\t\tLike a diamond in the sky.\n",
      "Twinkle, twinkle, little star,\n",
      "\tHow I wonder what you are!\n"
     ]
    }
   ],
   "source": [
    "# 1. Write a Python program to print the following string in a specific format (see the\n",
    "# output).\n",
    "\n",
    "# Twinkle, twinkle, little star,\n",
    "# How I wonder what you are!\n",
    "# Up above the world so high,\n",
    "# Like a diamond in the sky.\n",
    "\n",
    "# Twinkle, twinkle, little star,\n",
    "# How I wonder what you are\n",
    "print(\"Twinkle, twinkle, little star,\\n\\tHow I wonder what you are!\\n\\t\\tUp above the world so high,\\n\\t\\tLike a diamond in the sky.\\nTwinkle, twinkle, little star,\\n\\tHow I wonder what you are!\")"
   ]
  },
  {
   "cell_type": "code",
   "execution_count": 4,
   "metadata": {},
   "outputs": [
    {
     "data": {
      "text/plain": [
       "'3.7.4'"
      ]
     },
     "execution_count": 4,
     "metadata": {},
     "output_type": "execute_result"
    }
   ],
   "source": [
    "# 2. Write a Python program to get the Python version you are using\n",
    "from platform import python_version\n",
    "python_version()"
   ]
  },
  {
   "cell_type": "code",
   "execution_count": 5,
   "metadata": {},
   "outputs": [
    {
     "name": "stdout",
     "output_type": "stream",
     "text": [
      "Current date and time : \n",
      "24-10-2021 18:40:31\n"
     ]
    }
   ],
   "source": [
    "#3. Write a Python program to display the current date and time.\n",
    "import datetime\n",
    "now = datetime.datetime.now()\n",
    "print (\"Current date and time : \")\n",
    "print (now.strftime(\"%d-%m-%Y %H:%M:%S\"))"
   ]
  },
  {
   "cell_type": "code",
   "execution_count": 6,
   "metadata": {},
   "outputs": [
    {
     "name": "stdout",
     "output_type": "stream",
     "text": [
      "Input the radius of the circle : 4\n",
      "The area of the circle with radius 4.0 is: 50.26548245743669\n"
     ]
    }
   ],
   "source": [
    "# 4۔ Write a Python program which accepts the radius of a circle from the user and compute\n",
    "# the area.\n",
    "from math import pi\n",
    "r = float(input (\"Input the radius of the circle : \"))\n",
    "print (\"The area of the circle with radius \" + str(r) + \" is: \" + str(pi * r**2))\n",
    "\n"
   ]
  },
  {
   "cell_type": "code",
   "execution_count": 7,
   "metadata": {},
   "outputs": [
    {
     "name": "stdout",
     "output_type": "stream",
     "text": [
      "Enter your first name:hira\n",
      "Enter your last name:khan\n"
     ]
    },
    {
     "data": {
      "text/plain": [
       "'nahk arih'"
      ]
     },
     "execution_count": 7,
     "metadata": {},
     "output_type": "execute_result"
    }
   ],
   "source": [
    "# 5. Write a Python program which accepts the user's first and last name and print them in\n",
    "# reverse order with a space between them.\n",
    "f=input(\"Enter your first name:\");\n",
    "l=input(\"Enter your last name:\");\n",
    "full = f+\" \"+l;\n",
    "reverse=full[::-1]\n",
    "reverse"
   ]
  },
  {
   "cell_type": "code",
   "execution_count": 9,
   "metadata": {},
   "outputs": [
    {
     "name": "stdout",
     "output_type": "stream",
     "text": [
      "enter first number:4\n",
      "enter second number:3\n"
     ]
    },
    {
     "data": {
      "text/plain": [
       "7"
      ]
     },
     "execution_count": 9,
     "metadata": {},
     "output_type": "execute_result"
    }
   ],
   "source": [
    "# 6. Write a python program which takes two inputs from user and print them addition\n",
    "a=int(input(\"enter first number:\"))\n",
    "b=int(input(\"enter second number:\"))\n",
    "c = a+b;\n",
    "c\n"
   ]
  },
  {
   "cell_type": "code",
   "execution_count": 26,
   "metadata": {},
   "outputs": [
    {
     "name": "stdout",
     "output_type": "stream",
     "text": [
      "Enter marks of English77\n",
      "Enter marks of Urdu77\n",
      "Enter marks of Maths77\n",
      "Enter marks of Science77\n",
      "Enter marks of Islamiat77\n",
      "Subject\t\tTotal Marks\t\tObtained Marks\n",
      "English\t\t100\t\t\t77\n",
      "Urde\t\t100\t\t\t77\n",
      "Science\t\t100\t\t\t77\n",
      "Maths\t\t100\t\t\t77\n",
      "Islamiat\t100\t\t\t77\n",
      "Total Marks:\t500\t\t\t385\n",
      "Percentage: 77.0\n",
      "Grade: A\n"
     ]
    }
   ],
   "source": [
    "# 7. Write a program which takes 5 inputs from user for different subject’s marks, total it\n",
    "# and generate mark sheet using grades ?\n",
    "English=int(input(\"Enter marks of English\"));\n",
    "Urdu=int(input(\"Enter marks of Urdu\"));\n",
    "Maths=int(input(\"Enter marks of Maths\"));\n",
    "Sci=int(input(\"Enter marks of Science\"));\n",
    "Isl=int(input(\"Enter marks of Islamiat\"));\n",
    "total = English+Urdu+Maths+Sci+Isl;\n",
    "percentage = (total/500)*100;\n",
    "print(\"Subject\\t\\tTotal Marks\\t\\tObtained Marks\")\n",
    "print(\"English\\t\\t100\\t\\t\\t\"+str(English));\n",
    "print(\"Urde\\t\\t100\\t\\t\\t\"+str(Urdu));\n",
    "print(\"Science\\t\\t100\\t\\t\\t\"+str(Sci));\n",
    "print(\"Maths\\t\\t100\\t\\t\\t\"+str(Maths));\n",
    "print(\"Islamiat\\t100\\t\\t\\t\"+str(Isl));\n",
    "print(\"Total Marks:\\t500\\t\\t\\t\"+str(total))\n",
    "print(\"Percentage: \"+str(percentage));\n",
    "if(percentage >=80 and percentage<=100):\n",
    "    print(\"Grade: A+\");\n",
    "elif(percentage >=70 and percentage<=79):\n",
    "    print(\"Grade: A\");\n",
    "elif(percentage >=60 and percentage<=69):\n",
    "    print(\"Grade: B\");\n",
    "elif(percentage >=50 and percentage<=59):\n",
    "    print(\"Grade: C\");\n",
    "elif(percentage >50):\n",
    "    print(\"Grade: Fail\");\n",
    "\n",
    "\n",
    "\n"
   ]
  },
  {
   "cell_type": "code",
   "execution_count": 31,
   "metadata": {},
   "outputs": [
    {
     "name": "stdout",
     "output_type": "stream",
     "text": [
      "Enter a number: 3\n",
      "Number is odd\n"
     ]
    }
   ],
   "source": [
    "# 8. Write a program which take input from user and identify that the given number is even\n",
    "# or odd?\n",
    "a= int(input(\"Enter a number: \"));\n",
    "if(a%2==0):\n",
    "    print(\"Number is Even\");\n",
    "else:\n",
    "    print(\"Number is odd\");\n"
   ]
  },
  {
   "cell_type": "code",
   "execution_count": 35,
   "metadata": {},
   "outputs": [
    {
     "data": {
      "text/plain": [
       "9"
      ]
     },
     "execution_count": 35,
     "metadata": {},
     "output_type": "execute_result"
    }
   ],
   "source": [
    "# 9. Write a program which print the length of the list?\n",
    "a=[1,2,3,4,5,6,7,8,9];\n",
    "len(a)"
   ]
  },
  {
   "cell_type": "code",
   "execution_count": 39,
   "metadata": {},
   "outputs": [
    {
     "data": {
      "text/plain": [
       "45"
      ]
     },
     "execution_count": 39,
     "metadata": {},
     "output_type": "execute_result"
    }
   ],
   "source": [
    "# 10.Write a Python program to sum all the numeric items in a list?\n",
    "a=[1,2,3,4,5,6,7,8,9];\n",
    "sum=0\n",
    "i=0\n",
    "while(i<len(a)):\n",
    "    sum = sum +a[i];\n",
    "    i+=1;\n",
    "sum"
   ]
  },
  {
   "cell_type": "code",
   "execution_count": 41,
   "metadata": {},
   "outputs": [
    {
     "data": {
      "text/plain": [
       "10"
      ]
     },
     "execution_count": 41,
     "metadata": {},
     "output_type": "execute_result"
    }
   ],
   "source": [
    "# 11.Write a Python program to get the largest number from a numeric list.\n",
    "a=[1,2,3,4,10,6,7,8,9];\n",
    "i=0\n",
    "j=0\n",
    "while(i<len(a)):\n",
    "    if(j<a[i]):\n",
    "        j=a[i];\n",
    "    i+=1;\n",
    "j"
   ]
  },
  {
   "cell_type": "code",
   "execution_count": 44,
   "metadata": {},
   "outputs": [
    {
     "name": "stdout",
     "output_type": "stream",
     "text": [
      "1\n",
      "1\n",
      "2\n",
      "3\n",
      "0\n",
      "4\n"
     ]
    }
   ],
   "source": [
    "# 12. Take a list, say for example this one:\n",
    "# a = [1, 1, 2, 3, 5, 8, 13, 21, 34, 55, 89]\n",
    "# Write a program that prints out all the elements of the list that are less than 5.\n",
    "a = [1, 1, 2, 3, 5, 8, 13, 21, 0, 4, 89]\n",
    "for i in a:\n",
    "    if(i<5):\n",
    "        print(i);"
   ]
  }
 ],
 "metadata": {
  "kernelspec": {
   "display_name": "Python 3",
   "language": "python",
   "name": "python3"
  },
  "language_info": {
   "codemirror_mode": {
    "name": "ipython",
    "version": 3
   },
   "file_extension": ".py",
   "mimetype": "text/x-python",
   "name": "python",
   "nbconvert_exporter": "python",
   "pygments_lexer": "ipython3",
   "version": "3.7.4"
  }
 },
 "nbformat": 4,
 "nbformat_minor": 2
}
